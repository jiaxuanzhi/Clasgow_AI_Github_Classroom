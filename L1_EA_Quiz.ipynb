{
 "cells": [
  {
   "cell_type": "markdown",
   "id": "d2156887",
   "metadata": {},
   "source": [
    "### **Homework Assignment**\n",
    "\n",
    "#### **Part I: Multiple Choice Questions (10 questions total)**\n",
    "\n",
    "1.  In evolutionary algorithms, what phenomenon most likely occurs when both the fitness standard deviation (fitness std) and position standard deviation (position std) become very small after many iterations, but the best fitness value has not improved for a long time and is far from the theoretical optimum?\n",
    "\n",
    "    A. The algorithm is converging normally.\n",
    "\n",
    "    B. The population diversity is too high.\n",
    "\n",
    "    C. The algorithm is trapped in premature convergence. \n",
    "\n",
    "    D. The fitness function has been calculated incorrectly.\n",
    "\n",
    "    **Correct Answer: C**\n"
   ]
  },
  {
   "cell_type": "markdown",
   "id": "7f4b694b",
   "metadata": {},
   "source": [
    "\n",
    "2.  Which of the following statements about setting the crossover probability in a Genetic Algorithm (GA) is **incorrect**?\n",
    "\n",
    "    A. A higher crossover probability generally encourages the algorithm to perform broader exploration. \n",
    "\n",
    "    B. A lower crossover probability restricts information exchange between individuals, which may prevent finding a good solution. \n",
    "\n",
    "    C. To preserve good existing patterns in the population, it is generally not recommended to set the crossover probability to 1. \n",
    "\n",
    "    D. The lower the crossover probability, the faster the algorithm converges.\n",
    "\n",
    "    **Correct Answer: D**\n"
   ]
  },
  {
   "cell_type": "markdown",
   "id": "ff2e2c5d",
   "metadata": {},
   "source": [
    "\n",
    "3.  In the Particle Swarm Optimization (PSO) algorithm, what is the role of the inertia weight factor $w$?\n",
    "\n",
    "    A. It determines the tendency of a particle to move towards its personal best position (pBest).\n",
    "\n",
    "    B. It determines the tendency of a particle to move towards the population's global best position (gBest).\n",
    "\n",
    "    C. It balances the algorithm's global search (exploration) and local search (exploitation) capabilities. \n",
    "\n",
    "    D. It controls the size of the population.\n",
    "\n",
    "    **Correct Answer: C**\n"
   ]
  },
  {
   "cell_type": "markdown",
   "id": "0eda00a3",
   "metadata": {},
   "source": [
    "\n",
    "4.  When setting the stopping criteria in the PyGAD library, what does `stop_criteria=\"saturate_50\"` mean?\n",
    "\n",
    "    A. The algorithm will stop after a maximum of 50 generations.\n",
    "\n",
    "    B. The algorithm will stop when there are 50 identical individuals in the population.\n",
    "\n",
    "    C. The algorithm will stop when the best fitness value has not changed for 50 consecutive generations. \n",
    "\n",
    "    D. The algorithm will stop if the runtime exceeds 50 seconds.\n",
    "\n",
    "    **Correct Answer: C**\n"
   ]
  },
  {
   "cell_type": "markdown",
   "id": "d0734918",
   "metadata": {},
   "source": [
    "\n",
    "5.  What potential problem can arise from setting an excessively large Search Range in an evolutionary algorithm?\n",
    "\n",
    "    A. The algorithm may fail to find the global optimum.\n",
    "\n",
    "    B. It can increase computational cost and slow down convergence. \n",
    "\n",
    "    C. It can lead to excessively low population diversity.\n",
    "\n",
    "    D. It can only solve single-modal function problems.\n",
    "\n",
    "    **Correct Answer: B**\n"
   ]
  },
  {
   "cell_type": "markdown",
   "id": "6d15adae",
   "metadata": {},
   "source": [
    "\n",
    "6.  What is the primary purpose of the Mutation operation in a Genetic Algorithm?\n",
    "\n",
    "    A. To ensure that the best individuals are passed directly to the next generation.\n",
    "\n",
    "    B. To accelerate the algorithm's convergence speed.\n",
    "\n",
    "    C. To complement the crossover operation by introducing new candidate solutions to increase population diversity. \n",
    "\n",
    "    D. To reduce the number of fitness function evaluations.\n",
    "\n",
    "    **Correct Answer: C**\n"
   ]
  },
  {
   "cell_type": "markdown",
   "id": "6e015cb4",
   "metadata": {},
   "source": [
    "\n",
    "7.  In Particle Swarm Optimization (PSO), which two key positions does each particle primarily reference when updating its velocity?\n",
    "\n",
    "    A. A random position and its initial position.\n",
    "\n",
    "    B. The position of the worst particle in the swarm and its own current position.\n",
    "\n",
    "    C. Its own personal best position (pBest) and the swarm's global best position (gBest).\n",
    "\n",
    "    D. The best position in its neighborhood and the average position of the swarm.\n",
    "\n",
    "    **Correct Answer: C**\n"
   ]
  },
  {
   "cell_type": "markdown",
   "id": "490a0c67",
   "metadata": {},
   "source": [
    "\n",
    "8.  According to the course's case study on \"Array Antenna Optimization Using GA,\" what is the optimization objective of the problem?\n",
    "\n",
    "    A. To maximize the gain of the mainlobe.\n",
    "\n",
    "    B. To minimize the Sidelobe Level (SLL). \n",
    "    \n",
    "    C. To increase the number of elements in the antenna array.\n",
    "\n",
    "    D. To decrease the distance between antenna elements.\n",
    "\n",
    "    **Correct Answer: B**\n"
   ]
  },
  {
   "cell_type": "markdown",
   "id": "2d5aa20b",
   "metadata": {},
   "source": [
    "\n",
    "9.  What is the core mechanism of the `GlobalBestPSO` algorithm in the PySwarms library?\n",
    "\n",
    "    A. Each particle only shares information with its immediate neighbors.\n",
    "\n",
    "    B. All particles share the single global best solution (gbest) of the entire swarm. \n",
    "\n",
    "    C. Each particle only moves towards its own personal best position.\n",
    "\n",
    "    D. Particles move in random directions without sharing any information.\n",
    "\n",
    "    **Correct Answer: B**\n"
   ]
  },
  {
   "cell_type": "markdown",
   "id": "b9e69322",
   "metadata": {},
   "source": [
    "\n",
    "10. While running a GA, you observe that the \"Position Std\" continuously decreases and stabilizes at a very small value, and the \"Fitness Std\" does the same. This typically indicates that:\n",
    "\n",
    "    A. The algorithm is effectively conducting global exploration.\n",
    "\n",
    "    B. The population has converged, and the individuals have clustered together in the solution space. \n",
    "\n",
    "    C. The mutation rate is set too high.\n",
    "    \n",
    "    D. The population size is too small.\n",
    "\n",
    "    **Correct Answer: B**\n"
   ]
  }
 ],
 "metadata": {
  "language_info": {
   "name": "python"
  }
 },
 "nbformat": 4,
 "nbformat_minor": 5
}
